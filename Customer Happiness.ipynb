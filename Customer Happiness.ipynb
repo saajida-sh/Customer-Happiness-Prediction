{
 "cells": [
  {
   "cell_type": "markdown",
   "id": "001eb1e2",
   "metadata": {},
   "source": [
    "## Project : Predicting Customer Happiness"
   ]
  },
  {
   "cell_type": "markdown",
   "id": "3d2d6126",
   "metadata": {},
   "source": [
    "#### Import the Necessary Libraries"
   ]
  },
  {
   "cell_type": "code",
   "execution_count": 1,
   "id": "aa3d9984",
   "metadata": {},
   "outputs": [],
   "source": [
    "import pandas as pd\n",
    "import numpy as np\n",
    "import matplotlib.pyplot as plt\n",
    "import seaborn as sns\n",
    "from sklearn.model_selection import train_test_split, GridSearchCV\n",
    "from sklearn.feature_selection import SelectKBest, f_classif, RFE\n",
    "from sklearn.linear_model import LogisticRegression\n",
    "from sklearn.tree import DecisionTreeClassifier\n",
    "from sklearn.ensemble import RandomForestClassifier, GradientBoostingClassifier\n",
    "from sklearn.neighbors import KNeighborsClassifier\n",
    "from sklearn.svm import SVC\n",
    "from sklearn.metrics import classification_report, confusion_matrix, accuracy_score"
   ]
  },
  {
   "cell_type": "markdown",
   "id": "51b522f4",
   "metadata": {},
   "source": [
    "#### Read the Dataset"
   ]
  },
  {
   "cell_type": "code",
   "execution_count": 2,
   "id": "3956c007",
   "metadata": {},
   "outputs": [],
   "source": [
    "data = pd.read_csv('ACME-HappinessSurvey2020.csv')"
   ]
  },
  {
   "cell_type": "markdown",
   "id": "ff7a0f11",
   "metadata": {},
   "source": [
    "#### Data Description:\n",
    "\n",
    "Y = target attribute (Y) with values indicating 0 (unhappy) and 1 (happy) customers\n",
    "\n",
    "X1 = my order was delivered on time\n",
    "\n",
    "X2 = contents of my order was as I expected\n",
    "\n",
    "X3 = I ordered everything I wanted to order\n",
    "\n",
    "X4 = I paid a good price for my order\n",
    "\n",
    "X5 = I am satisfied with my courier\n",
    "\n",
    "X6 = the app makes ordering easy for me\n",
    "\n",
    "Attributes X1 to X6 indicate the responses for each question and have values from 1 to 5 where the smaller number indicates less and the higher number indicates more towards the answer. "
   ]
  },
  {
   "cell_type": "markdown",
   "id": "339327c8",
   "metadata": {},
   "source": [
    "### Initial Data Inspection"
   ]
  },
  {
   "cell_type": "code",
   "execution_count": 3,
   "id": "eefd4553",
   "metadata": {},
   "outputs": [
    {
     "name": "stdout",
     "output_type": "stream",
     "text": [
      "<class 'pandas.core.frame.DataFrame'>\n",
      "RangeIndex: 126 entries, 0 to 125\n",
      "Data columns (total 7 columns):\n",
      " #   Column  Non-Null Count  Dtype\n",
      "---  ------  --------------  -----\n",
      " 0   Y       126 non-null    int64\n",
      " 1   X1      126 non-null    int64\n",
      " 2   X2      126 non-null    int64\n",
      " 3   X3      126 non-null    int64\n",
      " 4   X4      126 non-null    int64\n",
      " 5   X5      126 non-null    int64\n",
      " 6   X6      126 non-null    int64\n",
      "dtypes: int64(7)\n",
      "memory usage: 7.0 KB\n"
     ]
    }
   ],
   "source": [
    "# Check data info\n",
    "data.info()"
   ]
  },
  {
   "cell_type": "code",
   "execution_count": 4,
   "id": "c38bf08b",
   "metadata": {},
   "outputs": [
    {
     "data": {
      "text/html": [
       "<div>\n",
       "<style scoped>\n",
       "    .dataframe tbody tr th:only-of-type {\n",
       "        vertical-align: middle;\n",
       "    }\n",
       "\n",
       "    .dataframe tbody tr th {\n",
       "        vertical-align: top;\n",
       "    }\n",
       "\n",
       "    .dataframe thead th {\n",
       "        text-align: right;\n",
       "    }\n",
       "</style>\n",
       "<table border=\"1\" class=\"dataframe\">\n",
       "  <thead>\n",
       "    <tr style=\"text-align: right;\">\n",
       "      <th></th>\n",
       "      <th>Y</th>\n",
       "      <th>X1</th>\n",
       "      <th>X2</th>\n",
       "      <th>X3</th>\n",
       "      <th>X4</th>\n",
       "      <th>X5</th>\n",
       "      <th>X6</th>\n",
       "    </tr>\n",
       "  </thead>\n",
       "  <tbody>\n",
       "    <tr>\n",
       "      <th>0</th>\n",
       "      <td>0</td>\n",
       "      <td>3</td>\n",
       "      <td>3</td>\n",
       "      <td>3</td>\n",
       "      <td>4</td>\n",
       "      <td>2</td>\n",
       "      <td>4</td>\n",
       "    </tr>\n",
       "    <tr>\n",
       "      <th>1</th>\n",
       "      <td>0</td>\n",
       "      <td>3</td>\n",
       "      <td>2</td>\n",
       "      <td>3</td>\n",
       "      <td>5</td>\n",
       "      <td>4</td>\n",
       "      <td>3</td>\n",
       "    </tr>\n",
       "    <tr>\n",
       "      <th>2</th>\n",
       "      <td>1</td>\n",
       "      <td>5</td>\n",
       "      <td>3</td>\n",
       "      <td>3</td>\n",
       "      <td>3</td>\n",
       "      <td>3</td>\n",
       "      <td>5</td>\n",
       "    </tr>\n",
       "    <tr>\n",
       "      <th>3</th>\n",
       "      <td>0</td>\n",
       "      <td>5</td>\n",
       "      <td>4</td>\n",
       "      <td>3</td>\n",
       "      <td>3</td>\n",
       "      <td>3</td>\n",
       "      <td>5</td>\n",
       "    </tr>\n",
       "    <tr>\n",
       "      <th>4</th>\n",
       "      <td>0</td>\n",
       "      <td>5</td>\n",
       "      <td>4</td>\n",
       "      <td>3</td>\n",
       "      <td>3</td>\n",
       "      <td>3</td>\n",
       "      <td>5</td>\n",
       "    </tr>\n",
       "  </tbody>\n",
       "</table>\n",
       "</div>"
      ],
      "text/plain": [
       "   Y  X1  X2  X3  X4  X5  X6\n",
       "0  0   3   3   3   4   2   4\n",
       "1  0   3   2   3   5   4   3\n",
       "2  1   5   3   3   3   3   5\n",
       "3  0   5   4   3   3   3   5\n",
       "4  0   5   4   3   3   3   5"
      ]
     },
     "execution_count": 4,
     "metadata": {},
     "output_type": "execute_result"
    }
   ],
   "source": [
    "# first few rows of the dataset\n",
    "data.head()"
   ]
  },
  {
   "cell_type": "code",
   "execution_count": 5,
   "id": "78284ecc",
   "metadata": {},
   "outputs": [
    {
     "data": {
      "text/html": [
       "<div>\n",
       "<style scoped>\n",
       "    .dataframe tbody tr th:only-of-type {\n",
       "        vertical-align: middle;\n",
       "    }\n",
       "\n",
       "    .dataframe tbody tr th {\n",
       "        vertical-align: top;\n",
       "    }\n",
       "\n",
       "    .dataframe thead th {\n",
       "        text-align: right;\n",
       "    }\n",
       "</style>\n",
       "<table border=\"1\" class=\"dataframe\">\n",
       "  <thead>\n",
       "    <tr style=\"text-align: right;\">\n",
       "      <th></th>\n",
       "      <th>Y</th>\n",
       "      <th>X1</th>\n",
       "      <th>X2</th>\n",
       "      <th>X3</th>\n",
       "      <th>X4</th>\n",
       "      <th>X5</th>\n",
       "      <th>X6</th>\n",
       "    </tr>\n",
       "  </thead>\n",
       "  <tbody>\n",
       "    <tr>\n",
       "      <th>count</th>\n",
       "      <td>126.000000</td>\n",
       "      <td>126.000000</td>\n",
       "      <td>126.000000</td>\n",
       "      <td>126.000000</td>\n",
       "      <td>126.000000</td>\n",
       "      <td>126.000000</td>\n",
       "      <td>126.000000</td>\n",
       "    </tr>\n",
       "    <tr>\n",
       "      <th>mean</th>\n",
       "      <td>0.547619</td>\n",
       "      <td>4.333333</td>\n",
       "      <td>2.531746</td>\n",
       "      <td>3.309524</td>\n",
       "      <td>3.746032</td>\n",
       "      <td>3.650794</td>\n",
       "      <td>4.253968</td>\n",
       "    </tr>\n",
       "    <tr>\n",
       "      <th>std</th>\n",
       "      <td>0.499714</td>\n",
       "      <td>0.800000</td>\n",
       "      <td>1.114892</td>\n",
       "      <td>1.023440</td>\n",
       "      <td>0.875776</td>\n",
       "      <td>1.147641</td>\n",
       "      <td>0.809311</td>\n",
       "    </tr>\n",
       "    <tr>\n",
       "      <th>min</th>\n",
       "      <td>0.000000</td>\n",
       "      <td>1.000000</td>\n",
       "      <td>1.000000</td>\n",
       "      <td>1.000000</td>\n",
       "      <td>1.000000</td>\n",
       "      <td>1.000000</td>\n",
       "      <td>1.000000</td>\n",
       "    </tr>\n",
       "    <tr>\n",
       "      <th>25%</th>\n",
       "      <td>0.000000</td>\n",
       "      <td>4.000000</td>\n",
       "      <td>2.000000</td>\n",
       "      <td>3.000000</td>\n",
       "      <td>3.000000</td>\n",
       "      <td>3.000000</td>\n",
       "      <td>4.000000</td>\n",
       "    </tr>\n",
       "    <tr>\n",
       "      <th>50%</th>\n",
       "      <td>1.000000</td>\n",
       "      <td>5.000000</td>\n",
       "      <td>3.000000</td>\n",
       "      <td>3.000000</td>\n",
       "      <td>4.000000</td>\n",
       "      <td>4.000000</td>\n",
       "      <td>4.000000</td>\n",
       "    </tr>\n",
       "    <tr>\n",
       "      <th>75%</th>\n",
       "      <td>1.000000</td>\n",
       "      <td>5.000000</td>\n",
       "      <td>3.000000</td>\n",
       "      <td>4.000000</td>\n",
       "      <td>4.000000</td>\n",
       "      <td>4.000000</td>\n",
       "      <td>5.000000</td>\n",
       "    </tr>\n",
       "    <tr>\n",
       "      <th>max</th>\n",
       "      <td>1.000000</td>\n",
       "      <td>5.000000</td>\n",
       "      <td>5.000000</td>\n",
       "      <td>5.000000</td>\n",
       "      <td>5.000000</td>\n",
       "      <td>5.000000</td>\n",
       "      <td>5.000000</td>\n",
       "    </tr>\n",
       "  </tbody>\n",
       "</table>\n",
       "</div>"
      ],
      "text/plain": [
       "                Y          X1          X2          X3          X4          X5  \\\n",
       "count  126.000000  126.000000  126.000000  126.000000  126.000000  126.000000   \n",
       "mean     0.547619    4.333333    2.531746    3.309524    3.746032    3.650794   \n",
       "std      0.499714    0.800000    1.114892    1.023440    0.875776    1.147641   \n",
       "min      0.000000    1.000000    1.000000    1.000000    1.000000    1.000000   \n",
       "25%      0.000000    4.000000    2.000000    3.000000    3.000000    3.000000   \n",
       "50%      1.000000    5.000000    3.000000    3.000000    4.000000    4.000000   \n",
       "75%      1.000000    5.000000    3.000000    4.000000    4.000000    4.000000   \n",
       "max      1.000000    5.000000    5.000000    5.000000    5.000000    5.000000   \n",
       "\n",
       "               X6  \n",
       "count  126.000000  \n",
       "mean     4.253968  \n",
       "std      0.809311  \n",
       "min      1.000000  \n",
       "25%      4.000000  \n",
       "50%      4.000000  \n",
       "75%      5.000000  \n",
       "max      5.000000  "
      ]
     },
     "execution_count": 5,
     "metadata": {},
     "output_type": "execute_result"
    }
   ],
   "source": [
    "# Summary statistics\n",
    "data.describe()"
   ]
  },
  {
   "cell_type": "markdown",
   "id": "d2e57287",
   "metadata": {},
   "source": [
    "Ensure that there are no null values in the dataset"
   ]
  },
  {
   "cell_type": "code",
   "execution_count": 6,
   "id": "6226efed",
   "metadata": {},
   "outputs": [
    {
     "name": "stdout",
     "output_type": "stream",
     "text": [
      "Y     0\n",
      "X1    0\n",
      "X2    0\n",
      "X3    0\n",
      "X4    0\n",
      "X5    0\n",
      "X6    0\n",
      "dtype: int64\n"
     ]
    }
   ],
   "source": [
    "# Provide NaN count for each feature in the dataset\n",
    "print(data.isnull().sum())"
   ]
  },
  {
   "cell_type": "markdown",
   "id": "7bd9c2b8",
   "metadata": {},
   "source": [
    "The dataset contains 6 features with 126 records. All 6 features have ordinal values. There are no null values in the dataset."
   ]
  },
  {
   "cell_type": "markdown",
   "id": "74e4ffe0",
   "metadata": {},
   "source": [
    "### EDA and Visualizations\n",
    "\n",
    "#### Bar Chart\n",
    "\n",
    "The bar chart reveals that there are slightly more happy customers (1) than unhappy ones (0) in the dataset. "
   ]
  },
  {
   "cell_type": "code",
   "execution_count": 7,
   "id": "f1a019de",
   "metadata": {},
   "outputs": [
    {
     "data": {
      "image/png": "[encoded data removed]",
      "text/plain": [
       "<Figure size 400x400 with 1 Axes>"
      ]
     },
     "metadata": {},
     "output_type": "display_data"
    }
   ],
   "source": [
    "# Set the aesthetic style of the plots\n",
    "sns.set_style(\"whitegrid\")\n",
    "\n",
    "# Bar chart of the target attribute (Y)\n",
    "plt.figure(figsize=(4, 4))\n",
    "sns.countplot(x='Y', data=data)\n",
    "plt.title(\"Distribution of Happy (1) and Unhappy (0) Customers\")\n",
    "plt.xlabel(\"Customer Happiness\")\n",
    "plt.ylabel(\"Count\")\n",
    "plt.show()"
   ]
  },
  {
   "cell_type": "markdown",
   "id": "e547f729",
   "metadata": {},
   "source": [
    "#### Correlation Matrix:\n",
    "\n",
    "This heatmap is correlation of each column in the dataset, where closer to 1 indicates a strong positive correlation, and closer to -1 indicates a strong negative correlation.\n",
    "\n",
    "- The correlation matrix shows that some attributes have a moderate positive correlation with customer happiness (Y). For instance, X1 (delivery time) seems to have a relatively stronger correlation with customer happiness compared to other attributes. This might be a significant factor in determining customer satisfaction.\n",
    "- The correlations between the attributes are generally low, indicating relative independence of each other."
   ]
  },
  {
   "cell_type": "code",
   "execution_count": 8,
   "id": "ba8be768",
   "metadata": {},
   "outputs": [
    {
     "data": {
      "image/png": "[encoded data removed]",
      "text/plain": [
       "<Figure size 500x400 with 2 Axes>"
      ]
     },
     "metadata": {},
     "output_type": "display_data"
    }
   ],
   "source": [
    "# Correlation matrix\n",
    "plt.figure(figsize=(5, 4))\n",
    "sns.heatmap(data.corr(), annot=True, cmap='coolwarm', fmt=\".2f\")\n",
    "plt.title(\"Correlation Matrix\")\n",
    "plt.show()"
   ]
  },
  {
   "cell_type": "markdown",
   "id": "d776aeed",
   "metadata": {},
   "source": [
    "#### Histograms for Each Attribute (X1 to X6):\n",
    "\n",
    "These histograms display the distribution of responses for each question.\n",
    "\n",
    "- The histograms for X1, X3, X4, X5, and X6 show that a majority of customers have given ratings of 3,4 or 5, indicating a general satisfaction in these areas.\n",
    "- However, the distribution for X2 (contents of order as expected) is more spread out, with a significant number of customers giving lower ratings (1 and 2). This could indicate a potential area for improvement."
   ]
  },
  {
   "cell_type": "code",
   "execution_count": 9,
   "id": "032e2776",
   "metadata": {},
   "outputs": [
    {
     "data": {
      "image/png": "[encoded data removed]",
      "text/plain": [
       "<Figure size 1000x800 with 6 Axes>"
      ]
     },
     "metadata": {},
     "output_type": "display_data"
    }
   ],
   "source": [
    "# Histograms for each attribute (X1 to X6)\n",
    "fig, axs = plt.subplots(2, 3, figsize=(10, 8))\n",
    "fig.suptitle('Distribution of Responses for Each Question (X1 to X6)')\n",
    "questions = ['X1', 'X2', 'X3', 'X4', 'X5', 'X6']\n",
    "for i, ax in enumerate(axs.flatten()):\n",
    "    sns.histplot(data[questions[i]], bins=5, ax=ax, kde=True)\n",
    "    ax.set_title(questions[i])\n",
    "plt.tight_layout(rect=[0, 0.03, 1, 0.95])\n",
    "plt.show()"
   ]
  },
  {
   "cell_type": "markdown",
   "id": "c872a82f",
   "metadata": {},
   "source": [
    "Visualizing the Distribution of Features by each class:"
   ]
  },
  {
   "cell_type": "code",
   "execution_count": 10,
   "id": "83896274",
   "metadata": {},
   "outputs": [
    {
     "data": {
      "image/png": "[encoded data removed]",
      "text/plain": [
       "<Figure size 900x700 with 6 Axes>"
      ]
     },
     "metadata": {},
     "output_type": "display_data"
    }
   ],
   "source": [
    "fig, axes = plt.subplots(2, 3, figsize=(9, 7))\n",
    "axes = axes.flatten()\n",
    "\n",
    "# Plotting distributions for each feature X1-X6\n",
    "for i, ax in enumerate(axes):\n",
    "    sns.histplot(data, x=f'X{i+1}', hue='Y', multiple=\"stack\", ax=ax)\n",
    "    ax.set_title(f'Distribution of X{i+1} by Class')\n",
    "    ax.set_xlabel(f'X{i+1}')\n",
    "    ax.set_ylabel('Count')\n",
    "\n",
    "plt.tight_layout()\n",
    "plt.show()"
   ]
  },
  {
   "cell_type": "markdown",
   "id": "65a7ca66",
   "metadata": {},
   "source": [
    "#### Box Plot\n",
    "\n",
    "- The box plots indicate that the responses for most questions are concentrated around the higher ratings (4 and 5), especially for X1, X4, X5, and X6.\n",
    "- There are few outliers in the data, particularly for X5 (satisfaction with the courier), where some customers rated significantly low."
   ]
  },
  {
   "cell_type": "code",
   "execution_count": 11,
   "id": "f4343951",
   "metadata": {},
   "outputs": [
    {
     "data": {
      "image/png": "[encoded data removed]",
      "text/plain": [
       "<Figure size 900x400 with 1 Axes>"
      ]
     },
     "metadata": {},
     "output_type": "display_data"
    }
   ],
   "source": [
    "# Box plots for each attribute (X1 to X6)\n",
    "plt.figure(figsize=(9, 4))\n",
    "sns.boxplot(data=data.iloc[:, 1:], orient='h')\n",
    "plt.title(\"Box Plots for Each Question (X1 to X6)\")\n",
    "plt.show()"
   ]
  },
  {
   "cell_type": "markdown",
   "id": "04abb97f",
   "metadata": {},
   "source": [
    "### Data Preprocessing"
   ]
  },
  {
   "cell_type": "code",
   "execution_count": 12,
   "id": "6bf9418a",
   "metadata": {},
   "outputs": [],
   "source": [
    "# Preparing the data\n",
    "X = data.drop('Y', axis=1)  # Predictor variables\n",
    "y = data['Y']               # Target variable\n",
    "\n",
    "# Splitting the data into training and testing sets with 80:20 ratio\n",
    "X_train, X_test, y_train, y_test = train_test_split(X, y, test_size=0.2, random_state=56)"
   ]
  },
  {
   "cell_type": "markdown",
   "id": "6658c4af",
   "metadata": {},
   "source": [
    "Note: As all features have values from 1 to 5, i.e, as they have similar scales, Scaling is not done further."
   ]
  },
  {
   "cell_type": "markdown",
   "id": "a394114b",
   "metadata": {},
   "source": [
    "### Feature Selection Test\n",
    "\n",
    "In order to understand the most important features, ANOVA F-Test and RFE Ranking is done here."
   ]
  },
  {
   "cell_type": "code",
   "execution_count": 13,
   "id": "714dc445",
   "metadata": {},
   "outputs": [
    {
     "data": {
      "text/html": [
       "<div>\n",
       "<style scoped>\n",
       "    .dataframe tbody tr th:only-of-type {\n",
       "        vertical-align: middle;\n",
       "    }\n",
       "\n",
       "    .dataframe tbody tr th {\n",
       "        vertical-align: top;\n",
       "    }\n",
       "\n",
       "    .dataframe thead th {\n",
       "        text-align: right;\n",
       "    }\n",
       "</style>\n",
       "<table border=\"1\" class=\"dataframe\">\n",
       "  <thead>\n",
       "    <tr style=\"text-align: right;\">\n",
       "      <th></th>\n",
       "      <th>Feature</th>\n",
       "      <th>ANOVA F-test Score</th>\n",
       "      <th>RFE Ranking</th>\n",
       "    </tr>\n",
       "  </thead>\n",
       "  <tbody>\n",
       "    <tr>\n",
       "      <th>0</th>\n",
       "      <td>X1</td>\n",
       "      <td>4.736442</td>\n",
       "      <td>2</td>\n",
       "    </tr>\n",
       "    <tr>\n",
       "      <th>4</th>\n",
       "      <td>X5</td>\n",
       "      <td>3.718994</td>\n",
       "      <td>1</td>\n",
       "    </tr>\n",
       "    <tr>\n",
       "      <th>5</th>\n",
       "      <td>X6</td>\n",
       "      <td>1.441011</td>\n",
       "      <td>4</td>\n",
       "    </tr>\n",
       "    <tr>\n",
       "      <th>2</th>\n",
       "      <td>X3</td>\n",
       "      <td>0.162470</td>\n",
       "      <td>1</td>\n",
       "    </tr>\n",
       "    <tr>\n",
       "      <th>1</th>\n",
       "      <td>X2</td>\n",
       "      <td>0.083873</td>\n",
       "      <td>1</td>\n",
       "    </tr>\n",
       "    <tr>\n",
       "      <th>3</th>\n",
       "      <td>X4</td>\n",
       "      <td>0.031491</td>\n",
       "      <td>3</td>\n",
       "    </tr>\n",
       "  </tbody>\n",
       "</table>\n",
       "</div>"
      ],
      "text/plain": [
       "  Feature  ANOVA F-test Score  RFE Ranking\n",
       "0      X1            4.736442            2\n",
       "4      X5            3.718994            1\n",
       "5      X6            1.441011            4\n",
       "2      X3            0.162470            1\n",
       "1      X2            0.083873            1\n",
       "3      X4            0.031491            3"
      ]
     },
     "execution_count": 13,
     "metadata": {},
     "output_type": "execute_result"
    }
   ],
   "source": [
    "# Apply Filter Method: Using ANOVA F-test\n",
    "fs = SelectKBest(score_func=f_classif, k='all')\n",
    "fs.fit(X_train, y_train)\n",
    "X_train_fs = fs.transform(X_train)\n",
    "X_test_fs = fs.transform(X_test)\n",
    "\n",
    "# Apply Wrapper Method: Using RFE with Random Forest Classifier\n",
    "rfe = RFE(estimator=RandomForestClassifier(random_state=45), n_features_to_select=3)\n",
    "rfe.fit(X_train, y_train)\n",
    "X_train_rfe = rfe.transform(X_train)\n",
    "X_test_rfe = rfe.transform(X_test)\n",
    "\n",
    "# Feature Scores from ANOVA F-test\n",
    "filter_scores = fs.scores_\n",
    "\n",
    "# Feature Ranking from RFE\n",
    "rfe_ranking = rfe.ranking_\n",
    "\n",
    "# Preparing DataFrame for display\n",
    "features_df = pd.DataFrame({'Feature': X.columns, 'ANOVA F-test Score': filter_scores, 'RFE Ranking': rfe_ranking})\n",
    "\n",
    "features_df.sort_values(by='ANOVA F-test Score', ascending=False)"
   ]
  },
  {
   "cell_type": "markdown",
   "id": "94edd6d3",
   "metadata": {},
   "source": [
    "Varied feature importances can be seen from the tests. In both tests, features X1 and X5 seem to be in the top 2 ranks. Further investigation of feature importance is done below in Machine Learning - Round 1."
   ]
  },
  {
   "cell_type": "markdown",
   "id": "dd3f9589",
   "metadata": {},
   "source": [
    "## Machine Learning - Round 1 \n",
    "\n",
    "All the features are used here for training. The models used here are Logistic Regression and Decision Trees. As this is for done for obtaining a basic idea of the feature importances, hyperparameter tuning is not performed in Round 1."
   ]
  },
  {
   "cell_type": "markdown",
   "id": "d88f1d4a",
   "metadata": {},
   "source": [
    "### I. Logistic Regression"
   ]
  },
  {
   "cell_type": "code",
   "execution_count": 14,
   "id": "3778fa34",
   "metadata": {},
   "outputs": [],
   "source": [
    "# Creating and fitting the logistic regression model\n",
    "logreg = LogisticRegression(random_state = 56)\n",
    "logreg.fit(X_train, y_train)\n",
    "\n",
    "# Predicting on the test set\n",
    "y_pred = logreg.predict(X_test)"
   ]
  },
  {
   "cell_type": "code",
   "execution_count": 15,
   "id": "8b477ac1",
   "metadata": {},
   "outputs": [],
   "source": [
    "# Model evaluation\n",
    "lr_class_report = classification_report(y_test, y_pred)"
   ]
  },
  {
   "cell_type": "code",
   "execution_count": 16,
   "id": "5bf03239",
   "metadata": {},
   "outputs": [
    {
     "data": {
      "text/plain": [
       "array([[ 6,  6],\n",
       "       [ 2, 12]], dtype=int64)"
      ]
     },
     "execution_count": 16,
     "metadata": {},
     "output_type": "execute_result"
    }
   ],
   "source": [
    "conf_matrix = confusion_matrix(y_test, y_pred)\n",
    "conf_matrix"
   ]
  },
  {
   "cell_type": "code",
   "execution_count": 17,
   "id": "683b5969",
   "metadata": {},
   "outputs": [
    {
     "name": "stdout",
     "output_type": "stream",
     "text": [
      "Classification Report:\n",
      "               precision    recall  f1-score   support\n",
      "\n",
      "           0       0.75      0.50      0.60        12\n",
      "           1       0.67      0.86      0.75        14\n",
      "\n",
      "    accuracy                           0.69        26\n",
      "   macro avg       0.71      0.68      0.68        26\n",
      "weighted avg       0.71      0.69      0.68        26\n",
      "\n"
     ]
    }
   ],
   "source": [
    "print(\"Classification Report:\\n\", lr_class_report)"
   ]
  },
  {
   "cell_type": "markdown",
   "id": "53b2866b",
   "metadata": {},
   "source": [
    "##### Accuracy of Model = 69%"
   ]
  },
  {
   "cell_type": "code",
   "execution_count": 18,
   "id": "3d715f29",
   "metadata": {},
   "outputs": [
    {
     "data": {
      "text/html": [
       "<div>\n",
       "<style scoped>\n",
       "    .dataframe tbody tr th:only-of-type {\n",
       "        vertical-align: middle;\n",
       "    }\n",
       "\n",
       "    .dataframe tbody tr th {\n",
       "        vertical-align: top;\n",
       "    }\n",
       "\n",
       "    .dataframe thead th {\n",
       "        text-align: right;\n",
       "    }\n",
       "</style>\n",
       "<table border=\"1\" class=\"dataframe\">\n",
       "  <thead>\n",
       "    <tr style=\"text-align: right;\">\n",
       "      <th></th>\n",
       "      <th>Feature</th>\n",
       "      <th>Coefficient</th>\n",
       "      <th>Absolute Coefficient</th>\n",
       "    </tr>\n",
       "  </thead>\n",
       "  <tbody>\n",
       "    <tr>\n",
       "      <th>0</th>\n",
       "      <td>X1</td>\n",
       "      <td>0.394104</td>\n",
       "      <td>0.394104</td>\n",
       "    </tr>\n",
       "    <tr>\n",
       "      <th>4</th>\n",
       "      <td>X5</td>\n",
       "      <td>0.286695</td>\n",
       "      <td>0.286695</td>\n",
       "    </tr>\n",
       "    <tr>\n",
       "      <th>3</th>\n",
       "      <td>X4</td>\n",
       "      <td>-0.170962</td>\n",
       "      <td>0.170962</td>\n",
       "    </tr>\n",
       "    <tr>\n",
       "      <th>5</th>\n",
       "      <td>X6</td>\n",
       "      <td>0.123988</td>\n",
       "      <td>0.123988</td>\n",
       "    </tr>\n",
       "    <tr>\n",
       "      <th>2</th>\n",
       "      <td>X3</td>\n",
       "      <td>-0.021562</td>\n",
       "      <td>0.021562</td>\n",
       "    </tr>\n",
       "    <tr>\n",
       "      <th>1</th>\n",
       "      <td>X2</td>\n",
       "      <td>-0.008918</td>\n",
       "      <td>0.008918</td>\n",
       "    </tr>\n",
       "  </tbody>\n",
       "</table>\n",
       "</div>"
      ],
      "text/plain": [
       "  Feature  Coefficient  Absolute Coefficient\n",
       "0      X1     0.394104              0.394104\n",
       "4      X5     0.286695              0.286695\n",
       "3      X4    -0.170962              0.170962\n",
       "5      X6     0.123988              0.123988\n",
       "2      X3    -0.021562              0.021562\n",
       "1      X2    -0.008918              0.008918"
      ]
     },
     "execution_count": 18,
     "metadata": {},
     "output_type": "execute_result"
    }
   ],
   "source": [
    "# Extracting the coefficients from the logistic regression model\n",
    "coefficients = pd.DataFrame({'Feature': X.columns, 'Coefficient': logreg.coef_[0]})\n",
    "\n",
    "# Sorting the coefficients by their absolute values for better interpretation\n",
    "coefficients['Absolute Coefficient'] = coefficients['Coefficient'].abs()\n",
    "sorted_coefficients = coefficients.sort_values(by='Absolute Coefficient', ascending=False)\n",
    "\n",
    "sorted_coefficients"
   ]
  },
  {
   "cell_type": "markdown",
   "id": "15c7211d",
   "metadata": {},
   "source": [
    "The model gave an accuracy of 69%. Furthermore, X1 feature (delivery time) seems to the prominent indicator."
   ]
  },
  {
   "cell_type": "markdown",
   "id": "d0279b00",
   "metadata": {},
   "source": [
    "### II. Decision Trees"
   ]
  },
  {
   "cell_type": "code",
   "execution_count": 19,
   "id": "8bb1b8c9",
   "metadata": {},
   "outputs": [],
   "source": [
    "# Initialize the Decision Tree Classifier\n",
    "dt_classifier = DecisionTreeClassifier(random_state=56)\n",
    "\n",
    "# Train the classifier\n",
    "dt_classifier.fit(X_train, y_train)\n",
    "\n",
    "# Predict on the test set\n",
    "y_pred = dt_classifier.predict(X_test)"
   ]
  },
  {
   "cell_type": "code",
   "execution_count": 20,
   "id": "dde78246",
   "metadata": {},
   "outputs": [
    {
     "name": "stdout",
     "output_type": "stream",
     "text": [
      "Classification Report:\n",
      "               precision    recall  f1-score   support\n",
      "\n",
      "           0       0.45      0.42      0.43        12\n",
      "           1       0.53      0.57      0.55        14\n",
      "\n",
      "    accuracy                           0.50        26\n",
      "   macro avg       0.49      0.49      0.49        26\n",
      "weighted avg       0.50      0.50      0.50        26\n",
      "\n"
     ]
    }
   ],
   "source": [
    "# Evaluate the classifier\n",
    "accuracy = accuracy_score(y_test, y_pred)\n",
    "report = classification_report(y_test, y_pred)\n",
    "print(\"Classification Report:\\n\", report)"
   ]
  },
  {
   "cell_type": "code",
   "execution_count": 21,
   "id": "8f3535f5",
   "metadata": {},
   "outputs": [
    {
     "data": {
      "text/html": [
       "<div>\n",
       "<style scoped>\n",
       "    .dataframe tbody tr th:only-of-type {\n",
       "        vertical-align: middle;\n",
       "    }\n",
       "\n",
       "    .dataframe tbody tr th {\n",
       "        vertical-align: top;\n",
       "    }\n",
       "\n",
       "    .dataframe thead th {\n",
       "        text-align: right;\n",
       "    }\n",
       "</style>\n",
       "<table border=\"1\" class=\"dataframe\">\n",
       "  <thead>\n",
       "    <tr style=\"text-align: right;\">\n",
       "      <th></th>\n",
       "      <th>Features</th>\n",
       "      <th>Importance</th>\n",
       "    </tr>\n",
       "  </thead>\n",
       "  <tbody>\n",
       "    <tr>\n",
       "      <th>3</th>\n",
       "      <td>X4</td>\n",
       "      <td>0.202991</td>\n",
       "    </tr>\n",
       "    <tr>\n",
       "      <th>4</th>\n",
       "      <td>X5</td>\n",
       "      <td>0.198484</td>\n",
       "    </tr>\n",
       "    <tr>\n",
       "      <th>2</th>\n",
       "      <td>X3</td>\n",
       "      <td>0.197587</td>\n",
       "    </tr>\n",
       "    <tr>\n",
       "      <th>1</th>\n",
       "      <td>X2</td>\n",
       "      <td>0.154471</td>\n",
       "    </tr>\n",
       "    <tr>\n",
       "      <th>5</th>\n",
       "      <td>X6</td>\n",
       "      <td>0.130635</td>\n",
       "    </tr>\n",
       "    <tr>\n",
       "      <th>0</th>\n",
       "      <td>X1</td>\n",
       "      <td>0.115832</td>\n",
       "    </tr>\n",
       "  </tbody>\n",
       "</table>\n",
       "</div>"
      ],
      "text/plain": [
       "  Features  Importance\n",
       "3       X4    0.202991\n",
       "4       X5    0.198484\n",
       "2       X3    0.197587\n",
       "1       X2    0.154471\n",
       "5       X6    0.130635\n",
       "0       X1    0.115832"
      ]
     },
     "execution_count": 21,
     "metadata": {},
     "output_type": "execute_result"
    }
   ],
   "source": [
    "# Extracting feature importances\n",
    "feature_importances = dt_classifier.feature_importances_\n",
    "\n",
    "# Creating a DataFrame for visualization\n",
    "features = X.columns\n",
    "importances_df = pd.DataFrame({'Features': features, 'Importance': feature_importances})\n",
    "\n",
    "# Sorting the DataFrame based on importance\n",
    "importances_df = importances_df.sort_values(by='Importance', ascending=False)\n",
    "importances_df\n"
   ]
  },
  {
   "cell_type": "markdown",
   "id": "76735433",
   "metadata": {},
   "source": [
    "The decision tree model gave an accuracy of 50%. Here, features X4, X5 and X3 are the top 3 most features without much difference in their importance scores."
   ]
  },
  {
   "cell_type": "markdown",
   "id": "cb135225",
   "metadata": {},
   "source": [
    "### III. Random Forest"
   ]
  },
  {
   "cell_type": "code",
   "execution_count": 22,
   "id": "527a6408",
   "metadata": {},
   "outputs": [],
   "source": [
    "# Initialize the Random Forest Classifier\n",
    "rf_classifier = RandomForestClassifier(random_state=56)\n",
    "\n",
    "# Train the classifier\n",
    "rf_classifier.fit(X_train, y_train)\n",
    "\n",
    "# Predict on the test set\n",
    "rf_y_pred = rf_classifier.predict(X_test)"
   ]
  },
  {
   "cell_type": "code",
   "execution_count": 23,
   "id": "4d6fdcaf",
   "metadata": {},
   "outputs": [
    {
     "data": {
      "text/plain": [
       "0.6153846153846154"
      ]
     },
     "execution_count": 23,
     "metadata": {},
     "output_type": "execute_result"
    }
   ],
   "source": [
    "# Evaluate the classifier\n",
    "rf_accuracy = accuracy_score(y_test, rf_y_pred)\n",
    "rf_report = classification_report(y_test, rf_y_pred)\n",
    "\n",
    "rf_accuracy"
   ]
  },
  {
   "cell_type": "code",
   "execution_count": 24,
   "id": "8d06ba77",
   "metadata": {},
   "outputs": [
    {
     "data": {
      "text/html": [
       "<div>\n",
       "<style scoped>\n",
       "    .dataframe tbody tr th:only-of-type {\n",
       "        vertical-align: middle;\n",
       "    }\n",
       "\n",
       "    .dataframe tbody tr th {\n",
       "        vertical-align: top;\n",
       "    }\n",
       "\n",
       "    .dataframe thead th {\n",
       "        text-align: right;\n",
       "    }\n",
       "</style>\n",
       "<table border=\"1\" class=\"dataframe\">\n",
       "  <thead>\n",
       "    <tr style=\"text-align: right;\">\n",
       "      <th></th>\n",
       "      <th>Features</th>\n",
       "      <th>Importance</th>\n",
       "    </tr>\n",
       "  </thead>\n",
       "  <tbody>\n",
       "    <tr>\n",
       "      <th>2</th>\n",
       "      <td>X3</td>\n",
       "      <td>0.186898</td>\n",
       "    </tr>\n",
       "    <tr>\n",
       "      <th>1</th>\n",
       "      <td>X2</td>\n",
       "      <td>0.185582</td>\n",
       "    </tr>\n",
       "    <tr>\n",
       "      <th>0</th>\n",
       "      <td>X1</td>\n",
       "      <td>0.175665</td>\n",
       "    </tr>\n",
       "    <tr>\n",
       "      <th>4</th>\n",
       "      <td>X5</td>\n",
       "      <td>0.174148</td>\n",
       "    </tr>\n",
       "    <tr>\n",
       "      <th>3</th>\n",
       "      <td>X4</td>\n",
       "      <td>0.144563</td>\n",
       "    </tr>\n",
       "    <tr>\n",
       "      <th>5</th>\n",
       "      <td>X6</td>\n",
       "      <td>0.133144</td>\n",
       "    </tr>\n",
       "  </tbody>\n",
       "</table>\n",
       "</div>"
      ],
      "text/plain": [
       "  Features  Importance\n",
       "2       X3    0.186898\n",
       "1       X2    0.185582\n",
       "0       X1    0.175665\n",
       "4       X5    0.174148\n",
       "3       X4    0.144563\n",
       "5       X6    0.133144"
      ]
     },
     "execution_count": 24,
     "metadata": {},
     "output_type": "execute_result"
    }
   ],
   "source": [
    "features = X.columns\n",
    "\n",
    "# Extracting feature importances from the Random Forest model\n",
    "rf_feature_importances = rf_classifier.feature_importances_\n",
    "\n",
    "# Creating a DataFrame for visualization\n",
    "rf_importances_df = pd.DataFrame({'Features': features, 'Importance': rf_feature_importances})\n",
    "\n",
    "# Sorting the DataFrame based on importance\n",
    "rf_importances_df = rf_importances_df.sort_values(by='Importance', ascending=False)\n",
    "rf_importances_df"
   ]
  },
  {
   "cell_type": "markdown",
   "id": "d94ca103",
   "metadata": {},
   "source": [
    "With Random Forest, the accuracy obtained is 61% approximately. The importances scores of X3, X2, X1 and X5 are quite close."
   ]
  },
  {
   "cell_type": "markdown",
   "id": "4296a332",
   "metadata": {},
   "source": [
    "### Machine Learning - Round 2 (With Selected Features)\n",
    "\n",
    "Based on the results from the intial feature selection tests, Round 1 machine learning and a few experimentation, 3 from among the 6 features are selected for prediction according to their importances and ranking. \n",
    "\n",
    "The features selected are - X1, X2, X5\n",
    "\n",
    "Models trained with - Logistic Regression, KNN, SVM, Decision Trees, Random Forest "
   ]
  },
  {
   "cell_type": "code",
   "execution_count": 25,
   "id": "5f7ab24f",
   "metadata": {},
   "outputs": [],
   "source": [
    "# Preparing the data\n",
    "X = data.drop(columns = ['Y','X3','X4','X6'], axis=1)  # Predictor variables\n",
    "y = data['Y']               # Target variable\n",
    "\n",
    "# Splitting the data into training and testing sets with :20 ratio\n",
    "X_train, X_test, y_train, y_test = train_test_split(X, y, test_size=0.2, random_state = 22)"
   ]
  },
  {
   "cell_type": "markdown",
   "id": "217fab5d",
   "metadata": {},
   "source": [
    "### I. Logistic Regression"
   ]
  },
  {
   "cell_type": "code",
   "execution_count": 26,
   "id": "a23fc77f",
   "metadata": {},
   "outputs": [],
   "source": [
    "# Creating and fitting the logistic regression model\n",
    "logreg2 = LogisticRegression()\n",
    "logreg2.fit(X_train, y_train)\n",
    "\n",
    "# Predicting on the test set\n",
    "y_pred2 = logreg2.predict(X_test)"
   ]
  },
  {
   "cell_type": "code",
   "execution_count": 27,
   "id": "5e3990c1",
   "metadata": {},
   "outputs": [
    {
     "name": "stdout",
     "output_type": "stream",
     "text": [
      "Classification Report:\n",
      "               precision    recall  f1-score   support\n",
      "\n",
      "           0       0.67      0.46      0.55        13\n",
      "           1       0.59      0.77      0.67        13\n",
      "\n",
      "    accuracy                           0.62        26\n",
      "   macro avg       0.63      0.62      0.61        26\n",
      "weighted avg       0.63      0.62      0.61        26\n",
      "\n"
     ]
    }
   ],
   "source": [
    "# Model evaluation\n",
    "lr_report2 = classification_report(y_test, y_pred2)\n",
    "print(\"Classification Report:\\n\", lr_report2)"
   ]
  },
  {
   "cell_type": "markdown",
   "id": "a7eb7ccc",
   "metadata": {},
   "source": [
    "##### Hyperparameter Tuning:"
   ]
  },
  {
   "cell_type": "code",
   "execution_count": 28,
   "id": "8781dde1",
   "metadata": {},
   "outputs": [
    {
     "name": "stdout",
     "output_type": "stream",
     "text": [
      "Fitting 3 folds for each of 18 candidates, totalling 54 fits\n",
      "Best parameters: {'C': 1, 'penalty': 'l2', 'solver': 'liblinear'}\n",
      "              precision    recall  f1-score   support\n",
      "\n",
      "           0       0.83      0.38      0.53        13\n",
      "           1       0.60      0.92      0.73        13\n",
      "\n",
      "    accuracy                           0.65        26\n",
      "   macro avg       0.72      0.65      0.63        26\n",
      "weighted avg       0.72      0.65      0.63        26\n",
      "\n"
     ]
    }
   ],
   "source": [
    "param_grid = {\n",
    "    'C': [0.001, 0.01, 0.1, 1, 10, 100],  # Regularization parameter\n",
    "    'penalty': ['l2'],  # Type of regularization\n",
    "    'solver': ['newton-cg', 'lbfgs', 'liblinear'] # Algorithm for optimization\n",
    "}\n",
    "\n",
    "log_reg = LogisticRegression()\n",
    "grid_search = GridSearchCV(log_reg, param_grid, cv=3, scoring='accuracy', verbose=1, n_jobs=-1)\n",
    "\n",
    "grid_search.fit(X_train, y_train)\n",
    "# Best parameters\n",
    "print(\"Best parameters:\", grid_search.best_params_)\n",
    "\n",
    "# Best model\n",
    "best_model = grid_search.best_estimator_\n",
    "\n",
    "# Performance on Test Data\n",
    "predictions = best_model.predict(X_test)\n",
    "print(classification_report(y_test, predictions))\n"
   ]
  },
  {
   "cell_type": "markdown",
   "id": "225364cf",
   "metadata": {},
   "source": [
    "The accuracy of the model after tuning : 65%."
   ]
  },
  {
   "cell_type": "markdown",
   "id": "58e3d65c",
   "metadata": {},
   "source": [
    "### II. KNN"
   ]
  },
  {
   "cell_type": "code",
   "execution_count": 29,
   "id": "eddb9e5c",
   "metadata": {},
   "outputs": [
    {
     "data": {
      "text/plain": [
       "0.6538461538461539"
      ]
     },
     "execution_count": 29,
     "metadata": {},
     "output_type": "execute_result"
    }
   ],
   "source": [
    "# Initialize the KNN Classifier with a default number of neighbors\n",
    "knn_classifier = KNeighborsClassifier()\n",
    "\n",
    "# Train the classifier\n",
    "knn_classifier.fit(X_train, y_train)\n",
    "\n",
    "# Predict on the test set\n",
    "knn_y_pred = knn_classifier.predict(X_test)\n",
    "\n",
    "# Evaluate the classifier\n",
    "knn_accuracy = accuracy_score(y_test, knn_y_pred)\n",
    "knn_report = classification_report(y_test, knn_y_pred)\n",
    "\n",
    "knn_accuracy"
   ]
  },
  {
   "cell_type": "markdown",
   "id": "0f65228e",
   "metadata": {},
   "source": [
    "##### Hyperparameter Tuning:"
   ]
  },
  {
   "cell_type": "code",
   "execution_count": 30,
   "id": "dbe48a9b",
   "metadata": {},
   "outputs": [
    {
     "name": "stdout",
     "output_type": "stream",
     "text": [
      "Fitting 5 folds for each of 49 candidates, totalling 245 fits\n"
     ]
    },
    {
     "data": {
      "text/plain": [
       "({'n_neighbors': 1}, 0.6)"
      ]
     },
     "execution_count": 30,
     "metadata": {},
     "output_type": "execute_result"
    }
   ],
   "source": [
    "# Define the parameter grid for n_neighbors\n",
    "knn_param_grid = {'n_neighbors': range(1, 50)}\n",
    "\n",
    "# Create a KNN model for GridSearch\n",
    "knn_for_grid_search = KNeighborsClassifier()\n",
    "\n",
    "# Create GridSearchCV object\n",
    "knn_grid_search = GridSearchCV(knn_for_grid_search, knn_param_grid, cv=5, scoring='accuracy', verbose=1)\n",
    "\n",
    "# Fit the grid search to the data\n",
    "knn_grid_search.fit(X_train, y_train)\n",
    "\n",
    "# Best parameters and score\n",
    "knn_best_params = knn_grid_search.best_params_\n",
    "knn_best_score = knn_grid_search.best_score_\n",
    "\n",
    "knn_best_params, knn_best_score\n",
    "\n"
   ]
  },
  {
   "cell_type": "code",
   "execution_count": 31,
   "id": "9eb1cb5c",
   "metadata": {},
   "outputs": [
    {
     "data": {
      "text/plain": [
       "0.6923076923076923"
      ]
     },
     "execution_count": 31,
     "metadata": {},
     "output_type": "execute_result"
    }
   ],
   "source": [
    "# Retrain the KNN model with the optimized number of neighbors\n",
    "optimized_knn = KNeighborsClassifier(n_neighbors=knn_best_params['n_neighbors'])\n",
    "\n",
    "# Train the classifier\n",
    "optimized_knn.fit(X_train, y_train)\n",
    "\n",
    "# Predict on the test set\n",
    "optimized_knn_y_pred = optimized_knn.predict(X_test)\n",
    "\n",
    "# Evaluate the classifier\n",
    "optimized_knn_accuracy = accuracy_score(y_test, optimized_knn_y_pred)\n",
    "optimized_knn_report = classification_report(y_test, optimized_knn_y_pred)\n",
    "\n",
    "optimized_knn_accuracy\n"
   ]
  },
  {
   "cell_type": "code",
   "execution_count": 32,
   "id": "cb8677f1",
   "metadata": {},
   "outputs": [
    {
     "name": "stdout",
     "output_type": "stream",
     "text": [
      "Classification Report:\n",
      "               precision    recall  f1-score   support\n",
      "\n",
      "           0       0.69      0.69      0.69        13\n",
      "           1       0.69      0.69      0.69        13\n",
      "\n",
      "    accuracy                           0.69        26\n",
      "   macro avg       0.69      0.69      0.69        26\n",
      "weighted avg       0.69      0.69      0.69        26\n",
      "\n"
     ]
    }
   ],
   "source": [
    "print(\"Classification Report:\\n\", optimized_knn_report)"
   ]
  },
  {
   "cell_type": "markdown",
   "id": "b6fb3cca",
   "metadata": {},
   "source": [
    "While the accuracy of the KNN model increased after tuning, the number of neighbors is 1 here, which indicates overfitting. "
   ]
  },
  {
   "cell_type": "markdown",
   "id": "1e092174",
   "metadata": {},
   "source": [
    "### III. SVM"
   ]
  },
  {
   "cell_type": "code",
   "execution_count": 33,
   "id": "73f07a30",
   "metadata": {},
   "outputs": [
    {
     "data": {
      "text/plain": [
       "0.5769230769230769"
      ]
     },
     "execution_count": 33,
     "metadata": {},
     "output_type": "execute_result"
    }
   ],
   "source": [
    "# Initialize the SVM Classifier with a default configuration\n",
    "svm_classifier = SVC()\n",
    "\n",
    "# Train the classifier\n",
    "svm_classifier.fit(X_train, y_train)\n",
    "\n",
    "# Predict on the test set\n",
    "svm_y_pred = svm_classifier.predict(X_test)\n",
    "\n",
    "# Evaluate the classifier\n",
    "svm_accuracy = accuracy_score(y_test, svm_y_pred)\n",
    "svm_report = classification_report(y_test, svm_y_pred)\n",
    "\n",
    "svm_accuracy"
   ]
  },
  {
   "cell_type": "markdown",
   "id": "407ba100",
   "metadata": {},
   "source": [
    "##### Hyperparameter Tuning:"
   ]
  },
  {
   "cell_type": "code",
   "execution_count": 34,
   "id": "a2df480c",
   "metadata": {},
   "outputs": [
    {
     "name": "stdout",
     "output_type": "stream",
     "text": [
      "Fitting 2 folds for each of 32 candidates, totalling 64 fits\n"
     ]
    },
    {
     "data": {
      "text/plain": [
       "({'C': 100, 'gamma': 'scale', 'kernel': 'linear'}, 0.61)"
      ]
     },
     "execution_count": 34,
     "metadata": {},
     "output_type": "execute_result"
    }
   ],
   "source": [
    "# Defining the parameter grid for SVM\n",
    "svm_param_grid = {\n",
    "    'C': [0.1, 1, 10, 100],\n",
    "    'kernel': ['linear', 'poly', 'rbf', 'sigmoid'],\n",
    "    'gamma': ['scale', 'auto']\n",
    "}\n",
    "\n",
    "# Create a base SVM model\n",
    "svm = SVC(random_state=42)\n",
    "\n",
    "# Instantiate the grid search model\n",
    "svm_grid_search = GridSearchCV(estimator=svm, param_grid=svm_param_grid, \n",
    "                               cv=2, n_jobs=-1, verbose=2, scoring='accuracy')\n",
    "\n",
    "# Fit the grid search to the data\n",
    "svm_grid_search.fit(X_train, y_train)\n",
    "\n",
    "# Best parameters and score\n",
    "svm_best_params = svm_grid_search.best_params_\n",
    "svm_best_score = svm_grid_search.best_score_\n",
    "\n",
    "svm_best_params, svm_best_score"
   ]
  },
  {
   "cell_type": "code",
   "execution_count": 35,
   "id": "6650d96c",
   "metadata": {},
   "outputs": [
    {
     "data": {
      "text/plain": [
       "0.6153846153846154"
      ]
     },
     "execution_count": 35,
     "metadata": {},
     "output_type": "execute_result"
    }
   ],
   "source": [
    "# Retraining the SVM model with the optimized parameters\n",
    "optimized_svm = SVC(C=svm_best_params['C'], \n",
    "                    gamma=svm_best_params['gamma'], \n",
    "                    kernel=svm_best_params['kernel'])\n",
    "\n",
    "optimized_svm.fit(X_train, y_train)\n",
    "\n",
    "# Predicting on the test set\n",
    "optimized_svm_y_pred = optimized_svm.predict(X_test)\n",
    "\n",
    "# Evaluating the optimized model\n",
    "optimized_svm_accuracy = accuracy_score(y_test, optimized_svm_y_pred)\n",
    "optimized_svm_report = classification_report(y_test, optimized_svm_y_pred)\n",
    "\n",
    "optimized_svm_accuracy"
   ]
  },
  {
   "cell_type": "code",
   "execution_count": 36,
   "id": "c0ee0f72",
   "metadata": {},
   "outputs": [
    {
     "name": "stdout",
     "output_type": "stream",
     "text": [
      "Classification Report:\n",
      "               precision    recall  f1-score   support\n",
      "\n",
      "           0       0.67      0.46      0.55        13\n",
      "           1       0.59      0.77      0.67        13\n",
      "\n",
      "    accuracy                           0.62        26\n",
      "   macro avg       0.63      0.62      0.61        26\n",
      "weighted avg       0.63      0.62      0.61        26\n",
      "\n"
     ]
    }
   ],
   "source": [
    "print(\"Classification Report:\\n\", optimized_svm_report)"
   ]
  },
  {
   "cell_type": "markdown",
   "id": "ffcdf3aa",
   "metadata": {},
   "source": [
    "Accuracy of the SVM Model: 61.5%"
   ]
  },
  {
   "cell_type": "markdown",
   "id": "96f1b223",
   "metadata": {},
   "source": [
    "### IV. Decision Trees"
   ]
  },
  {
   "cell_type": "code",
   "execution_count": 71,
   "id": "b145c7bf",
   "metadata": {},
   "outputs": [],
   "source": [
    "# Initialize the Decision Tree Classifier\n",
    "dt_classifier2 = DecisionTreeClassifier(random_state=5)\n",
    "\n",
    "# Train the classifier\n",
    "dt_classifier2.fit(X_train, y_train)\n",
    "\n",
    "# Predict on the test set\n",
    "y_pred = dt_classifier2.predict(X_test)"
   ]
  },
  {
   "cell_type": "code",
   "execution_count": 72,
   "id": "c6c52ef2",
   "metadata": {},
   "outputs": [
    {
     "name": "stdout",
     "output_type": "stream",
     "text": [
      "Classification Report:\n",
      "               precision    recall  f1-score   support\n",
      "\n",
      "           0       0.75      0.69      0.72        13\n",
      "           1       0.71      0.77      0.74        13\n",
      "\n",
      "    accuracy                           0.73        26\n",
      "   macro avg       0.73      0.73      0.73        26\n",
      "weighted avg       0.73      0.73      0.73        26\n",
      "\n"
     ]
    }
   ],
   "source": [
    "# Evaluate the classifier\n",
    "accuracy = accuracy_score(y_test, y_pred)\n",
    "report = classification_report(y_test, y_pred)\n",
    "\n",
    "print(\"Classification Report:\\n\", report)"
   ]
  },
  {
   "cell_type": "code",
   "execution_count": 73,
   "id": "b794a5d3",
   "metadata": {},
   "outputs": [
    {
     "data": {
      "text/plain": [
       "0.7307692307692307"
      ]
     },
     "execution_count": 73,
     "metadata": {},
     "output_type": "execute_result"
    }
   ],
   "source": [
    "accuracy"
   ]
  },
  {
   "cell_type": "markdown",
   "id": "edf53dd8",
   "metadata": {},
   "source": [
    "##### Hyperparameter Tuning:"
   ]
  },
  {
   "cell_type": "code",
   "execution_count": 74,
   "id": "92116b56",
   "metadata": {},
   "outputs": [
    {
     "name": "stdout",
     "output_type": "stream",
     "text": [
      "Fitting 3 folds for each of 384 candidates, totalling 1152 fits\n"
     ]
    },
    {
     "data": {
      "text/plain": [
       "{'criterion': 'gini',\n",
       " 'max_depth': None,\n",
       " 'min_samples_leaf': 1,\n",
       " 'min_samples_split': 10}"
      ]
     },
     "execution_count": 74,
     "metadata": {},
     "output_type": "execute_result"
    }
   ],
   "source": [
    "# Defining the parameter grid\n",
    "param_grid = {\n",
    "    'max_depth': [None, 1, 2, 3, 4, 5, 6, 7],\n",
    "    'criterion': ['gini', 'entropy'],\n",
    "    'min_samples_split': [2, 5, 8, 10],\n",
    "    'min_samples_leaf': [1, 2, 4, 5, 8, 10],\n",
    "}\n",
    "\n",
    "# Create a base model\n",
    "dt = DecisionTreeClassifier(random_state=5)\n",
    "\n",
    "# Instantiate the grid search model\n",
    "grid_search = GridSearchCV(estimator=dt, param_grid=param_grid, \n",
    "                           cv=3, n_jobs=-1, verbose=2, scoring='accuracy')\n",
    "\n",
    "# Fit the grid search to the data\n",
    "grid_search.fit(X_train, y_train)\n",
    "\n",
    "# Best parameters\n",
    "best_params = grid_search.best_params_\n",
    "best_score = grid_search.best_score_\n",
    "\n",
    "best_params"
   ]
  },
  {
   "cell_type": "code",
   "execution_count": 75,
   "id": "c986443e",
   "metadata": {},
   "outputs": [
    {
     "data": {
      "text/plain": [
       "0.7692307692307693"
      ]
     },
     "execution_count": 75,
     "metadata": {},
     "output_type": "execute_result"
    }
   ],
   "source": [
    "# Retraining the model with the best parameters\n",
    "optimized_dt = DecisionTreeClassifier(criterion=best_params['criterion'],\n",
    "                                      max_depth=best_params['max_depth'],\n",
    "                                      min_samples_leaf=best_params['min_samples_leaf'],\n",
    "                                      min_samples_split=best_params['min_samples_split'])\n",
    "\n",
    "optimized_dt.fit(X_train, y_train)\n",
    "\n",
    "# Predicting on the test set\n",
    "optimized_y_pred = optimized_dt.predict(X_test)\n",
    "\n",
    "# Evaluating the optimized model\n",
    "optimized_accuracy = accuracy_score(y_test, optimized_y_pred)\n",
    "optimized_report = classification_report(y_test, optimized_y_pred)\n",
    "optimized_accuracy"
   ]
  },
  {
   "cell_type": "code",
   "execution_count": 76,
   "id": "fe85400d",
   "metadata": {},
   "outputs": [
    {
     "name": "stdout",
     "output_type": "stream",
     "text": [
      "Classification Report:\n",
      "               precision    recall  f1-score   support\n",
      "\n",
      "           0       0.77      0.77      0.77        13\n",
      "           1       0.77      0.77      0.77        13\n",
      "\n",
      "    accuracy                           0.77        26\n",
      "   macro avg       0.77      0.77      0.77        26\n",
      "weighted avg       0.77      0.77      0.77        26\n",
      "\n"
     ]
    }
   ],
   "source": [
    "print(\"Classification Report:\\n\", optimized_report)"
   ]
  },
  {
   "cell_type": "code",
   "execution_count": 77,
   "id": "96ebd40e",
   "metadata": {},
   "outputs": [
    {
     "data": {
      "text/html": [
       "<div>\n",
       "<style scoped>\n",
       "    .dataframe tbody tr th:only-of-type {\n",
       "        vertical-align: middle;\n",
       "    }\n",
       "\n",
       "    .dataframe tbody tr th {\n",
       "        vertical-align: top;\n",
       "    }\n",
       "\n",
       "    .dataframe thead th {\n",
       "        text-align: right;\n",
       "    }\n",
       "</style>\n",
       "<table border=\"1\" class=\"dataframe\">\n",
       "  <thead>\n",
       "    <tr style=\"text-align: right;\">\n",
       "      <th></th>\n",
       "      <th>Features</th>\n",
       "      <th>Importance</th>\n",
       "    </tr>\n",
       "  </thead>\n",
       "  <tbody>\n",
       "    <tr>\n",
       "      <th>2</th>\n",
       "      <td>X5</td>\n",
       "      <td>0.505345</td>\n",
       "    </tr>\n",
       "    <tr>\n",
       "      <th>0</th>\n",
       "      <td>X1</td>\n",
       "      <td>0.292326</td>\n",
       "    </tr>\n",
       "    <tr>\n",
       "      <th>1</th>\n",
       "      <td>X2</td>\n",
       "      <td>0.202329</td>\n",
       "    </tr>\n",
       "  </tbody>\n",
       "</table>\n",
       "</div>"
      ],
      "text/plain": [
       "  Features  Importance\n",
       "2       X5    0.505345\n",
       "0       X1    0.292326\n",
       "1       X2    0.202329"
      ]
     },
     "execution_count": 77,
     "metadata": {},
     "output_type": "execute_result"
    }
   ],
   "source": [
    "features = X.columns\n",
    "\n",
    "# Extracting feature importances from the Random Forest model\n",
    "rf_feature_importances = optimized_dt.feature_importances_\n",
    "\n",
    "# Creating a DataFrame for visualization\n",
    "rf_importances_df = pd.DataFrame({'Features': features, 'Importance': rf_feature_importances})\n",
    "\n",
    "# Sorting the DataFrame based on importance\n",
    "rf_importances_df = rf_importances_df.sort_values(by='Importance', ascending=False)\n",
    "rf_importances_df"
   ]
  },
  {
   "cell_type": "markdown",
   "id": "84760101",
   "metadata": {},
   "source": [
    "Accuracy of the Decision Tree model after tuning is 76.9%."
   ]
  },
  {
   "cell_type": "markdown",
   "id": "174ab350",
   "metadata": {},
   "source": [
    "### V. Random Forest"
   ]
  },
  {
   "cell_type": "code",
   "execution_count": 45,
   "id": "50922f5e",
   "metadata": {},
   "outputs": [],
   "source": [
    "# Initialize the Random Forest Classifier\n",
    "rf_classifier = RandomForestClassifier(random_state=56)\n",
    "\n",
    "# Train the classifier\n",
    "rf_classifier.fit(X_train, y_train)\n",
    "\n",
    "# Predict on the test set\n",
    "rf_y_pred = rf_classifier.predict(X_test)"
   ]
  },
  {
   "cell_type": "code",
   "execution_count": 46,
   "id": "1d1fe9cd",
   "metadata": {},
   "outputs": [
    {
     "data": {
      "text/plain": [
       "0.7307692307692307"
      ]
     },
     "execution_count": 46,
     "metadata": {},
     "output_type": "execute_result"
    }
   ],
   "source": [
    "# Evaluate the classifier\n",
    "rf_accuracy = accuracy_score(y_test, rf_y_pred)\n",
    "rf_report = classification_report(y_test, rf_y_pred)\n",
    "\n",
    "rf_accuracy"
   ]
  },
  {
   "cell_type": "markdown",
   "id": "fa31b2b4",
   "metadata": {},
   "source": [
    "##### Hyperparameter Tuning:"
   ]
  },
  {
   "cell_type": "code",
   "execution_count": 47,
   "id": "cb6b7cc9",
   "metadata": {},
   "outputs": [
    {
     "name": "stdout",
     "output_type": "stream",
     "text": [
      "Fitting 4 folds for each of 144 candidates, totalling 576 fits\n"
     ]
    },
    {
     "data": {
      "text/plain": [
       "{'max_depth': None,\n",
       " 'min_samples_leaf': 1,\n",
       " 'min_samples_split': 2,\n",
       " 'n_estimators': 100}"
      ]
     },
     "execution_count": 47,
     "metadata": {},
     "output_type": "execute_result"
    }
   ],
   "source": [
    "# Defining the parameter grid for Random Forest\n",
    "rf_param_grid = {\n",
    "    'n_estimators': [5,10, 50, 100],\n",
    "    'max_depth': [None, 10, 20, 30],\n",
    "    'min_samples_split': [2, 5, 10],\n",
    "    'min_samples_leaf': [1, 2, 4]\n",
    "}\n",
    "\n",
    "# Create a base Random Forest model\n",
    "rf = RandomForestClassifier(random_state=56)\n",
    "\n",
    "# Instantiate the grid search model\n",
    "rf_grid_search = GridSearchCV(estimator=rf, param_grid=rf_param_grid, \n",
    "                              cv=4, n_jobs=-1, verbose=2, scoring='accuracy')\n",
    "\n",
    "# Fit the grid search to the data\n",
    "rf_grid_search.fit(X_train, y_train)\n",
    "\n",
    "# Best parameters and score\n",
    "rf_best_params = rf_grid_search.best_params_\n",
    "rf_best_score = rf_grid_search.best_score_\n",
    "\n",
    "rf_best_params"
   ]
  },
  {
   "cell_type": "code",
   "execution_count": 49,
   "id": "a3bd8077",
   "metadata": {},
   "outputs": [
    {
     "data": {
      "text/plain": [
       "0.7692307692307693"
      ]
     },
     "execution_count": 49,
     "metadata": {},
     "output_type": "execute_result"
    }
   ],
   "source": [
    "optimized_rf = RandomForestClassifier(n_estimators=rf_best_params['n_estimators'],\n",
    "                                      max_depth=rf_best_params['max_depth'],\n",
    "                                      min_samples_split=rf_best_params['min_samples_split'],\n",
    "                                      min_samples_leaf=rf_best_params['min_samples_leaf'])\n",
    "\n",
    "optimized_rf.fit(X_train, y_train)\n",
    "\n",
    "# Predicting on the test set\n",
    "optimized_y_pred = optimized_rf.predict(X_test)\n",
    "\n",
    "# Evaluating the optimized model\n",
    "optimized_accuracy = accuracy_score(y_test, optimized_y_pred)\n",
    "optimized_report = classification_report(y_test, optimized_y_pred)\n",
    "optimized_accuracy"
   ]
  },
  {
   "cell_type": "code",
   "execution_count": 50,
   "id": "f852e4ad",
   "metadata": {},
   "outputs": [
    {
     "name": "stdout",
     "output_type": "stream",
     "text": [
      "Classification Report:\n",
      "               precision    recall  f1-score   support\n",
      "\n",
      "           0       0.77      0.77      0.77        13\n",
      "           1       0.77      0.77      0.77        13\n",
      "\n",
      "    accuracy                           0.77        26\n",
      "   macro avg       0.77      0.77      0.77        26\n",
      "weighted avg       0.77      0.77      0.77        26\n",
      "\n"
     ]
    }
   ],
   "source": [
    "print(\"Classification Report:\\n\", optimized_report)"
   ]
  },
  {
   "cell_type": "code",
   "execution_count": 51,
   "id": "2fe112ba",
   "metadata": {},
   "outputs": [
    {
     "data": {
      "text/html": [
       "<div>\n",
       "<style scoped>\n",
       "    .dataframe tbody tr th:only-of-type {\n",
       "        vertical-align: middle;\n",
       "    }\n",
       "\n",
       "    .dataframe tbody tr th {\n",
       "        vertical-align: top;\n",
       "    }\n",
       "\n",
       "    .dataframe thead th {\n",
       "        text-align: right;\n",
       "    }\n",
       "</style>\n",
       "<table border=\"1\" class=\"dataframe\">\n",
       "  <thead>\n",
       "    <tr style=\"text-align: right;\">\n",
       "      <th></th>\n",
       "      <th>Features</th>\n",
       "      <th>Importance</th>\n",
       "    </tr>\n",
       "  </thead>\n",
       "  <tbody>\n",
       "    <tr>\n",
       "      <th>2</th>\n",
       "      <td>X5</td>\n",
       "      <td>0.442884</td>\n",
       "    </tr>\n",
       "    <tr>\n",
       "      <th>1</th>\n",
       "      <td>X2</td>\n",
       "      <td>0.285935</td>\n",
       "    </tr>\n",
       "    <tr>\n",
       "      <th>0</th>\n",
       "      <td>X1</td>\n",
       "      <td>0.271181</td>\n",
       "    </tr>\n",
       "  </tbody>\n",
       "</table>\n",
       "</div>"
      ],
      "text/plain": [
       "  Features  Importance\n",
       "2       X5    0.442884\n",
       "1       X2    0.285935\n",
       "0       X1    0.271181"
      ]
     },
     "execution_count": 51,
     "metadata": {},
     "output_type": "execute_result"
    }
   ],
   "source": [
    "features = X.columns\n",
    "\n",
    "# Extracting feature importances from the Random Forest model\n",
    "rf_feature_importances = optimized_rf.feature_importances_\n",
    "\n",
    "# Creating a DataFrame for visualization\n",
    "rf_importances_df = pd.DataFrame({'Features': features, 'Importance': rf_feature_importances})\n",
    "\n",
    "# Sorting the DataFrame based on importance\n",
    "rf_importances_df = rf_importances_df.sort_values(by='Importance', ascending=False)\n",
    "rf_importances_df"
   ]
  },
  {
   "cell_type": "markdown",
   "id": "5c678e91",
   "metadata": {},
   "source": [
    "The accuracy of the Random Forest model: 76.9%"
   ]
  },
  {
   "cell_type": "markdown",
   "id": "929d9cab",
   "metadata": {},
   "source": [
    "### Results & Conclusion"
   ]
  },
  {
   "cell_type": "markdown",
   "id": "8b71057e",
   "metadata": {},
   "source": [
    "The accuracy, precision, recall and f1-score of each model after tuning is shown below."
   ]
  },
  {
   "cell_type": "code",
   "execution_count": 79,
   "id": "3b56b3f9",
   "metadata": {},
   "outputs": [
    {
     "name": "stdout",
     "output_type": "stream",
     "text": [
      "+---------------------+----------+-----------+--------+------+\n",
      "| Model               | Accuracy | Precision | Recall |  F1  |\n",
      "+---------------------+----------+-----------+--------+------+\n",
      "| Logistic Regression |   0.65   |    0.71   |  0.65  | 0.63 |\n",
      "| KNN                 |   0.69   |    0.69   |  0.69  | 0.69 |\n",
      "| SVM                 |   0.62   |    0.63   |  0.62  | 0.61 |\n",
      "| Decision Tree       |   0.77   |    0.77   |  0.77  | 0.77 |\n",
      "| Random Forest       |   0.77   |    0.77   |  0.77  | 0.77 |\n",
      "+---------------------+----------+-----------+--------+------+\n"
     ]
    }
   ],
   "source": [
    "from prettytable import PrettyTable\n",
    "\n",
    "table = PrettyTable()\n",
    "table.field_names = [\"Model\", \"Accuracy\", \"Precision\", \"Recall\", \"F1\"]\n",
    "\n",
    "# Add data to the table\n",
    "table.add_row([\"Logistic Regression\", 0.65, 0.71, 0.65, 0.63])\n",
    "table.add_row([\"KNN\", 0.69, 0.69, 0.69, 0.69])\n",
    "table.add_row([\"SVM\", 0.62, 0.63, 0.62, 0.61])\n",
    "table.add_row([\"Decision Tree\", 0.77, 0.77, 0.77, 0.77])\n",
    "table.add_row([\"Random Forest\", 0.77, 0.77, 0.77, 0.77])\n",
    "\n",
    "table.align[\"Model\"] = \"l\"\n",
    "table.align[\"Accuracy\"] = \"c\"\n",
    "table.align[\"Precision\"] = \"c\"\n",
    "table.align[\"Recall\"] = \"c\"\n",
    "table.align[\"F1\"] = \"c\"\n",
    "\n",
    "print(table)\n"
   ]
  },
  {
   "cell_type": "markdown",
   "id": "4a73ff69",
   "metadata": {},
   "source": [
    "Both Decision Tree and Random Forest gives an accuracy of 77%, which suggests Tree based Machine algorithms are suitable for this dataset. Both models also show that feature X5 (Satisfaction with Courier) is having the most influence in determining Customer Happiness followed by factors X1 (Delivery Time Satisfaction) and X2 (Contents of Order as Expected)."
   ]
  }
 ],
 "metadata": {
  "kernelspec": {
   "display_name": "Python 3 (ipykernel)",
   "language": "python",
   "name": "python3"
  },
  "language_info": {
   "codemirror_mode": {
    "name": "ipython",
    "version": 3
   },
   "file_extension": ".py",
   "mimetype": "text/x-python",
   "name": "python",
   "nbconvert_exporter": "python",
   "pygments_lexer": "ipython3",
   "version": "3.11.0"
  }
 },
 "nbformat": 4,
 "nbformat_minor": 5
}
